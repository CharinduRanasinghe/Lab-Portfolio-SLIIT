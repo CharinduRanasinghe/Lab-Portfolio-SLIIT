{
  "nbformat": 4,
  "nbformat_minor": 0,
  "metadata": {
    "colab": {
      "provenance": []
    },
    "kernelspec": {
      "name": "python3",
      "display_name": "Python 3"
    },
    "language_info": {
      "name": "python"
    }
  },
  "cells": [
    {
      "cell_type": "markdown",
      "source": [
        "### **Import Libraries**"
      ],
      "metadata": {
        "id": "XxghXIkOdwSQ"
      }
    },
    {
      "cell_type": "code",
      "execution_count": null,
      "metadata": {
        "id": "ZPQ1IgB3ayMn"
      },
      "outputs": [],
      "source": [
        "import os\n",
        "import cv2\n",
        "import numpy as np\n",
        "import random\n",
        "import matplotlib.pyplot as plt\n",
        "from tensorflow import keras\n",
        "from tensorflow.keras import layers\n",
        "from tensorflow.keras.utils import to_categorical\n",
        "from sklearn.model_selection import train_test_split\n",
        "from tensorflow.keras.utils import to_categorical"
      ]
    },
    {
      "cell_type": "markdown",
      "source": [
        "### **Mount to Google Colab**"
      ],
      "metadata": {
        "id": "fX0xK4_2d0k8"
      }
    },
    {
      "cell_type": "code",
      "source": [
        "from google.colab import drive\n",
        "drive.mount('/content/drive')"
      ],
      "metadata": {
        "colab": {
          "base_uri": "https://localhost:8080/"
        },
        "id": "SScLTYswa0fr",
        "outputId": "ccf1174c-02cd-46e9-9c4d-90b48ee380bd"
      },
      "execution_count": null,
      "outputs": [
        {
          "output_type": "stream",
          "name": "stdout",
          "text": [
            "Mounted at /content/drive\n"
          ]
        }
      ]
    },
    {
      "cell_type": "code",
      "source": [
        "folder_path = \"/content/drive/My Drive/CD_Dataset\""
      ],
      "metadata": {
        "id": "rlvSmXkia3NE"
      },
      "execution_count": null,
      "outputs": []
    },
    {
      "cell_type": "markdown",
      "source": [
        "### **Create subdirectories for training and testing Data**"
      ],
      "metadata": {
        "id": "mTl76d54m-66"
      }
    },
    {
      "cell_type": "code",
      "source": [
        "import os\n",
        "\n",
        "data_dir = \"/content/drive/MyDrive/CD_Dataset/\"\n",
        "categories = [\"cats\", \"dogs\"]\n",
        "train_test_split_ratio = 0.8  # Adjust as needed\n",
        "\n",
        "for category in categories:\n",
        "    path = os.path.join(data_dir, category)\n",
        "\n",
        "    # Create subdirectories for training and testing data\n",
        "    train_dir = os.path.join(data_dir, \"train\", category)\n",
        "    test_dir = os.path.join(data_dir, \"test\", category)\n",
        "\n",
        "    os.makedirs(train_dir, exist_ok=True)\n",
        "    os.makedirs(test_dir, exist_ok=True)\n",
        "\n",
        "    # List all image files in the category folder\n",
        "    image_files = [f for f in os.listdir(path) if f.endswith(\".jpg\")]\n",
        "    num_images = len(image_files)\n",
        "\n",
        "    # Determine the number of images for training and testing\n",
        "    num_train_images = int(num_images * train_test_split_ratio)\n",
        "\n",
        "    # Move images to training and testing directories\n",
        "    for i, image_file in enumerate(image_files):\n",
        "        src_path = os.path.join(path, image_file)\n",
        "        if i < num_train_images:\n",
        "            dst_path = os.path.join(train_dir, image_file)\n",
        "        else:\n",
        "            dst_path = os.path.join(test_dir, image_file)\n",
        "        os.rename(src_path, dst_path)"
      ],
      "metadata": {
        "id": "yj1bcnLsa5mj"
      },
      "execution_count": null,
      "outputs": []
    },
    {
      "cell_type": "markdown",
      "source": [
        "### **Build Artificial Neural Network**"
      ],
      "metadata": {
        "id": "rvqa3qOLnOmg"
      }
    },
    {
      "cell_type": "code",
      "source": [
        "data_dir = \"/content/drive/MyDrive/CD_Dataset/train\"\n",
        "\n",
        "def load_data(data_dir):\n",
        "    categories = [\"cats\", \"dogs\"]\n",
        "    data = []\n",
        "\n",
        "    for category in categories:\n",
        "        path = os.path.join(data_dir, category)\n",
        "        label = categories.index(category)\n",
        "\n",
        "        for img in os.listdir(path):  # Iterate over the subdirectory for each category\n",
        "            img_path = os.path.join(path, img)\n",
        "            img_array = cv2.imread(img_path, cv2.IMREAD_GRAYSCALE)  # Load images as grayscale\n",
        "            img_array = cv2.resize(img_array, (100, 100))  # Resize images to a consistent size\n",
        "            data.append([img_array, label])\n",
        "\n",
        "    random.shuffle(data)\n",
        "\n",
        "    X = []\n",
        "    y = []\n",
        "\n",
        "    for features, label in data:\n",
        "        X.append(features)\n",
        "        y.append(label)\n",
        "\n",
        "    X = np.array(X).reshape(-1, 100, 100, 1)  # Reshape the images\n",
        "    X = X / 255.0  # Normalize pixel values to be between 0 and 1\n",
        "    y = to_categorical(y, num_classes=2)  # One-hot encode labels\n",
        "\n",
        "    return X, y\n",
        "\n",
        "# Load and preprocess the data\n",
        "X, y = load_data(data_dir)\n",
        "\n",
        "# Split the data into training and testing sets\n",
        "X_train, X_test, y_train, y_test = train_test_split(X, y, test_size=0.2, random_state=42)"
      ],
      "metadata": {
        "id": "OVJvFN1zbMSC"
      },
      "execution_count": null,
      "outputs": []
    },
    {
      "cell_type": "markdown",
      "source": [
        "### **Assign the Artificial Neural Network**"
      ],
      "metadata": {
        "id": "EqplyHVMngPq"
      }
    },
    {
      "cell_type": "code",
      "source": [
        "model = keras.Sequential([\n",
        "    layers.Flatten(input_shape=(100, 100, 1)),  # Input layer\n",
        "    layers.Dense(128, activation='relu'),      # Hidden layer with 128 neurons and ReLU activation\n",
        "    layers.Dropout(0.5),                        # Dropout layer to reduce overfitting\n",
        "    layers.Dense(2, activation='softmax')       # Output layer with 2 units (cats and dogs) and softmax activation\n",
        "])"
      ],
      "metadata": {
        "id": "1L-8-9Mxbk6D"
      },
      "execution_count": null,
      "outputs": []
    },
    {
      "cell_type": "markdown",
      "source": [
        "### **Train the ANN**"
      ],
      "metadata": {
        "id": "2BfJZLdznuPs"
      }
    },
    {
      "cell_type": "markdown",
      "source": [
        "**Compile the ANN**"
      ],
      "metadata": {
        "id": "tjlkmxEqnwdI"
      }
    },
    {
      "cell_type": "code",
      "source": [
        "model.compile(optimizer='adam',\n",
        "              loss='categorical_crossentropy',  # Cross-entropy loss for binary classification\n",
        "              metrics=['accuracy'])"
      ],
      "metadata": {
        "id": "xct9Ocflbp28"
      },
      "execution_count": null,
      "outputs": []
    },
    {
      "cell_type": "markdown",
      "source": [
        "**Training the Set**"
      ],
      "metadata": {
        "id": "J4BL_swUn0Si"
      }
    },
    {
      "cell_type": "code",
      "source": [
        "model.fit(X_train, y_train, epochs=5, batch_size=32, validation_split=0.2)"
      ],
      "metadata": {
        "colab": {
          "base_uri": "https://localhost:8080/"
        },
        "id": "S-bwPqMkbsDU",
        "outputId": "ec05c57d-07dc-42bc-9f9b-a95f20edbd04"
      },
      "execution_count": null,
      "outputs": [
        {
          "output_type": "stream",
          "name": "stdout",
          "text": [
            "Epoch 1/5\n",
            "2/2 [==============================] - 0s 100ms/step - loss: 0.6113 - accuracy: 0.7255 - val_loss: 0.6431 - val_accuracy: 0.4615\n",
            "Epoch 2/5\n",
            "2/2 [==============================] - 0s 45ms/step - loss: 0.5992 - accuracy: 0.6275 - val_loss: 0.6495 - val_accuracy: 0.4615\n",
            "Epoch 3/5\n",
            "2/2 [==============================] - 0s 49ms/step - loss: 0.5909 - accuracy: 0.6275 - val_loss: 0.6414 - val_accuracy: 0.4615\n",
            "Epoch 4/5\n",
            "2/2 [==============================] - 0s 61ms/step - loss: 0.6026 - accuracy: 0.6863 - val_loss: 0.6350 - val_accuracy: 0.6923\n",
            "Epoch 5/5\n",
            "2/2 [==============================] - 0s 44ms/step - loss: 0.5672 - accuracy: 0.6667 - val_loss: 0.6365 - val_accuracy: 0.6923\n"
          ]
        },
        {
          "output_type": "execute_result",
          "data": {
            "text/plain": [
              "<keras.src.callbacks.History at 0x7b454bb46e30>"
            ]
          },
          "metadata": {},
          "execution_count": 27
        }
      ]
    },
    {
      "cell_type": "code",
      "source": [
        "test_loss, test_accuracy = model.evaluate(X_test, y_test, verbose=2)\n",
        "print(f\"Test accuracy: {test_accuracy*100:.2f}%\")"
      ],
      "metadata": {
        "colab": {
          "base_uri": "https://localhost:8080/"
        },
        "id": "wbZqd5JFbvBz",
        "outputId": "557fd221-8db6-4e4b-f57c-b14fd43c8c9c"
      },
      "execution_count": null,
      "outputs": [
        {
          "output_type": "stream",
          "name": "stdout",
          "text": [
            "1/1 - 0s - loss: 0.7162 - accuracy: 0.5625 - 24ms/epoch - 24ms/step\n",
            "Test accuracy: 56.25%\n"
          ]
        }
      ]
    },
    {
      "cell_type": "markdown",
      "source": [
        "### **Predict the Result**"
      ],
      "metadata": {
        "id": "NAkld4NGn-bx"
      }
    },
    {
      "cell_type": "code",
      "source": [
        "def preprocess_image(image_path):\n",
        "    img_array = cv2.imread(image_path, cv2.IMREAD_GRAYSCALE)\n",
        "    img_array = cv2.resize(img_array, (100, 100))  # Resize to match the model's input size\n",
        "    img_array = img_array / 255.0  # Normalize pixel values\n",
        "    img_array = img_array.reshape(-1, 100, 100, 1)  # Reshape for model input\n",
        "    return img_array\n",
        "\n",
        "image_path = \"/content/drive/MyDrive/cdDataset/dataset/single_prediction/cat_or_dog_2.jpg\"\n",
        "input_image = preprocess_image(image_path)"
      ],
      "metadata": {
        "id": "WdmQK7LBbxiY"
      },
      "execution_count": null,
      "outputs": []
    },
    {
      "cell_type": "code",
      "source": [
        "predictions = model.predict(input_image)"
      ],
      "metadata": {
        "colab": {
          "base_uri": "https://localhost:8080/"
        },
        "id": "z-kXlMdfb0xB",
        "outputId": "3944a3d4-9d0c-4d2a-ce95-caeca6c1126a"
      },
      "execution_count": null,
      "outputs": [
        {
          "output_type": "stream",
          "name": "stdout",
          "text": [
            "1/1 [==============================] - 0s 21ms/step\n"
          ]
        }
      ]
    },
    {
      "cell_type": "code",
      "source": [
        "class_names = [\"cat\", \"dog\"]\n",
        "predicted_class_index = np.argmax(predictions)\n",
        "predicted_class = class_names[predicted_class_index]\n",
        "\n",
        "# Print the predicted class\n",
        "print(f\"The model predicts this image is a {predicted_class}.\")"
      ],
      "metadata": {
        "colab": {
          "base_uri": "https://localhost:8080/"
        },
        "id": "Jx5_jfURb4VW",
        "outputId": "447157c6-5eda-49d9-b49d-1addf2c9afc7"
      },
      "execution_count": null,
      "outputs": [
        {
          "output_type": "stream",
          "name": "stdout",
          "text": [
            "The model predicts this image is a cat.\n"
          ]
        }
      ]
    }
  ]
}